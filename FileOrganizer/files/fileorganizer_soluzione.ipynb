{
 "cells": [
  {
   "cell_type": "code",
   "execution_count": 1,
   "metadata": {},
   "outputs": [],
   "source": [
    "import os\n",
    "import shutil\n",
    "import csv"
   ]
  },
  {
   "cell_type": "code",
   "execution_count": 2,
   "metadata": {},
   "outputs": [],
   "source": [
    "#mi sposto nella cartella files\n",
    "os.chdir('files')"
   ]
  },
  {
   "cell_type": "code",
   "execution_count": 3,
   "metadata": {},
   "outputs": [
    {
     "name": "stdout",
     "output_type": "stream",
     "text": [
      "bw type:image size:94926B\n",
      "ciao type:doc size:12B\n",
      "daffodil type:image size:24657B\n",
      "eclipse type:image size:64243B\n",
      "pippo type:doc size:8299B\n",
      "song1 type:audio size:1087849B\n",
      "song2 type:audio size:764176B\n",
      "trump type:image size:10195B\n"
     ]
    }
   ],
   "source": [
    "#creo le sottocartelle...\n",
    "for dirname in ['audio', 'docs', 'images']:\n",
    "    if not os.path.exists(dirname):#...se queste non esistono\n",
    "        os.makedirs(dirname)\n",
    "\n",
    "#creo liste formati accettati\n",
    "img_exts = ['.jpeg', '.jpg', '.png']\n",
    "doc_exts = ['.txt', '.odt']\n",
    "audio_exts = ['.mp3']\n",
    "\n",
    "#se il file di recap...\n",
    "if not os.path.exists('recap.csv'):#...non esiste\n",
    "    recap = open('recap.csv', 'w', newline='')#lo creo: 'w' sta per 'write'\n",
    "    writer = csv.writer(recap)\n",
    "    writer.writerow(['name', 'type', 'size (B)'])#scrivo header del csv\n",
    "else:#...esiste già\n",
    "    recap = open('recap.csv', 'a', newline='')#lo apro in 'append' con 'a'\n",
    "    writer = csv.writer(recap)\n",
    "    \n",
    "#itero dentro cartella corrente (cioè files: mi sono spostato dentro all'inizio)\n",
    "for f in sorted(os.listdir('.')):\n",
    "    \n",
    "    #separo il nome del file dall'estensione\n",
    "    name, ext = os.path.splitext(f)\n",
    "    \n",
    "    if ext in img_exts:#check estensione\n",
    "        size = os.path.getsize(f)#calcolo dimensione in byte\n",
    "        print(f'{name} type:image size:{size}B')#stampo info\n",
    "        writer.writerow([name, 'image', size])#aggiorno recap\n",
    "        shutil.move(f, 'images/')#sposto in sottocartella\n",
    "        \n",
    "    elif ext in doc_exts:\n",
    "        size = os.path.getsize(f)\n",
    "        print(f'{name} type:doc size:{size}B')\n",
    "        writer.writerow([name, 'doc', size])\n",
    "        shutil.move(f, 'docs/')\n",
    "        \n",
    "    elif ext in audio_exts:\n",
    "        size = os.path.getsize(f)\n",
    "        print(f'{name} type:audio size:{size}B')\n",
    "        writer.writerow([name, 'audio', size])\n",
    "        shutil.move(f, 'audio/')\n",
    "        \n",
    "    else:\n",
    "        print('Formato non riconosciuto.')\n",
    "    \n",
    "recap.close()#è buona pratica chiudere un file dopo la scrittura"
   ]
  },
  {
   "cell_type": "code",
   "execution_count": 4,
   "metadata": {},
   "outputs": [],
   "source": [
    "import numpy as np\n",
    "from PIL import Image\n",
    "from tabulate import tabulate"
   ]
  },
  {
   "cell_type": "code",
   "execution_count": 5,
   "metadata": {},
   "outputs": [
    {
     "name": "stdout",
     "output_type": "stream",
     "text": [
      "╒══════════╤══════════╤═════════╤═════════════╤════════╤════════╤═══════╤═════════╕\n",
      "│ name     │   height │   width │   grayscale │      R │      G │     B │   ALPHA │\n",
      "╞══════════╪══════════╪═════════╪═════════════╪════════╪════════╪═══════╪═════════╡\n",
      "│ bw       │      512 │     512 │       21.48 │   0.00 │   0.00 │  0.00 │    0.00 │\n",
      "├──────────┼──────────┼─────────┼─────────────┼────────┼────────┼───────┼─────────┤\n",
      "│ daffodil │      500 │     335 │        0.00 │ 109.25 │  85.56 │  4.97 │    0.00 │\n",
      "├──────────┼──────────┼─────────┼─────────────┼────────┼────────┼───────┼─────────┤\n",
      "│ eclipse  │      256 │     256 │        0.00 │ 109.05 │ 109.52 │ 39.85 │  133.59 │\n",
      "├──────────┼──────────┼─────────┼─────────────┼────────┼────────┼───────┼─────────┤\n",
      "│ trump    │      183 │     275 │        0.00 │  97.01 │  98.99 │ 90.92 │    0.00 │\n",
      "╘══════════╧══════════╧═════════╧═════════════╧════════╧════════╧═══════╧═════════╛\n"
     ]
    }
   ],
   "source": [
    "table = []#creo tabella per tabulate\n",
    "\n",
    "#ciclo dentro sottocartella images\n",
    "for f in sorted(os.listdir('images')):\n",
    "    #carico immagine\n",
    "    img = Image.open(os.path.join('images', f))#uso join per costruire nome file relativo a sottocartella\n",
    "    #trasformo immagine in array numpy\n",
    "    img_array = np.array(img)\n",
    "    \n",
    "    #calcolo altezza e larghezza\n",
    "    pixel_y, pixel_x = img_array.shape[:2]\n",
    "    \n",
    "    #caso scala di grigio\n",
    "    if img_array.ndim == 2:  \n",
    "        mean_gs = img_array.mean()#media dei valori dell'unico livello\n",
    "        mean_r, mean_g, mean_b = 0, 0, 0#non esistono altri livelli\n",
    "        mean_alpha = 0\n",
    "        \n",
    "    #caso RGB o RGBA: ho una dimensione aggiuntiva per i canali di colore (e quello di trasparenza)\n",
    "    else:\n",
    "        mean_gs = 0\n",
    "        #calcolo della media per ogni canale:\n",
    "        #- con la prima applicazione di mean faccio la media lungo l'asse y (righe)\n",
    "        #- con la seconda, faccio la media lungo l'asse x (colonne)\n",
    "        #il risultato è un array di 3 (RGB) o 4 (RGBA) numeri, corrispondenti alle\n",
    "        #medie dei valori di ognuno dei 3 canali di colore e, se presente, di quello di trasparenza\n",
    "        channels_mean = img_array.mean(axis=0).mean(axis=0)\n",
    "        if len(channels_mean) == 3:#caso RGB, solo i tre canali di colore\n",
    "            mean_alpha = 0    \n",
    "            mean_r, mean_g, mean_b = channels_mean\n",
    "        else:#caso RGBA, c'è anche il canale di trasparenza\n",
    "            mean_r, mean_g, mean_b, mean_alpha = channels_mean\n",
    "    \n",
    "    #separo nome ed estensione\n",
    "    name, ext = os.path.splitext(f)\n",
    "    #costruisco riga della tabella tabulate\n",
    "    row = [name, pixel_y, pixel_x, mean_gs, mean_r, mean_g, mean_b, mean_alpha]\n",
    "    #aggiungo riga a tabella\n",
    "    table += [row]\n",
    "\n",
    "#stampo tabella tabulate\n",
    "print(tabulate(table,\n",
    "               headers=['name', 'height', 'width', 'grayscale', 'R', 'G', 'B', 'ALPHA'],#header\n",
    "               tablefmt='fancy_grid',#formato\n",
    "               floatfmt='.2f'))#formato numeri decimali"
   ]
  }
 ],
 "metadata": {
  "kernelspec": {
   "display_name": "Python 3",
   "language": "python",
   "name": "python3"
  },
  "language_info": {
   "codemirror_mode": {
    "name": "ipython",
    "version": 3
   },
   "file_extension": ".py",
   "mimetype": "text/x-python",
   "name": "python",
   "nbconvert_exporter": "python",
   "pygments_lexer": "ipython3",
   "version": "3.8.3"
  }
 },
 "nbformat": 4,
 "nbformat_minor": 2
}
